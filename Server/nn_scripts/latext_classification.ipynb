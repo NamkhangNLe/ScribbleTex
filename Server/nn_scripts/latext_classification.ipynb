{
  "cells": [
    {
      "cell_type": "code",
      "execution_count": 1,
      "metadata": {
        "id": "FUTOJpKW2AeM"
      },
      "outputs": [],
      "source": [
        "import numpy as np\n",
        "import pandas as pd\n",
        "import matplotlib.pyplot as plt\n",
        "# import seaborn as sns\n",
        "from sklearn import tree\n",
        "import cv2 \n",
        "\n",
        "import pickle"
      ]
    },
    {
      "cell_type": "code",
      "execution_count": 83,
      "metadata": {
        "id": "y5UeESSa2AeN"
      },
      "outputs": [],
      "source": [
        "# load x_train, x_test, y_train, y_test\n",
        "\n",
        "X_train = np.loadtxt(f\"X_train_add_one_bit\")\n",
        "# # X_train = X_train_reshaped.reshape(X_train_reshaped.shape[0], X_train_reshaped.shape[1] // 45, 45)\n",
        "\n",
        "X_test = np.loadtxt(f\"X_test_add_one_bit\")\n",
        "# X_test = X_test_reshaped.reshape(X_test_reshaped.shape[0], X_test_reshaped.shape[1] // 45, 45)\n",
        "\n",
        "y_train = np.loadtxt(f\"y_train_add\")\n",
        "y_test = np.loadtxt(f\"y_test_add\")"
      ]
    },
    {
      "cell_type": "code",
      "execution_count": 84,
      "metadata": {},
      "outputs": [
        {
          "name": "stdout",
          "output_type": "stream",
          "text": [
            "[1. 1. 1. ... 1. 1. 1.]\n",
            "[1. 1. 1. ... 1. 1. 1.]\n",
            "6.0\n",
            "12.0\n"
          ]
        }
      ],
      "source": [
        "print(X_train[0])\n",
        "print(X_train.shape) # (10000, 2025) ==> (10000, 45, 45) ==> (10000, 2025)\n",
        "print(X_test[0])\n",
        "print(y_train[0])\n",
        "print(y_test[0])\n"
      ]
    },
    {
      "cell_type": "code",
      "execution_count": null,
      "metadata": {},
      "outputs": [],
      "source": [
        "# X_train_onebit = X_train.astype(int) / 255\n",
        "# X_test_onebit = X_test.astype(int) / 255\n",
        "\n",
        "# np.save(\"X_train_add_one_bit\", X_train_onebit)\n",
        "# np.save(\"X_test_add_one_bit\", X_train_onebit)"
      ]
    },
    {
      "cell_type": "code",
      "execution_count": 3,
      "metadata": {},
      "outputs": [],
      "source": [
        "# X_train = X_train_onebit\n",
        "# X_test = X_test_onebit"
      ]
    },
    {
      "cell_type": "code",
      "execution_count": null,
      "metadata": {},
      "outputs": [],
      "source": [
        "# X_train = np.loadtxt(f\"X_train_add_one_bit\")\n",
        "# # X_train = X_train_reshaped.reshape(X_train_reshaped.shape[0], X_train_reshaped.shape[1] // 45, 45)\n",
        "\n",
        "# X_test = np.loadtxt(f\"X_test_add_one_bit\")\n",
        "# X_test = X_test_reshaped.reshape(X_test_reshaped.shape[0], X_test_reshaped.shape[1] // 45, 45)\n"
      ]
    },
    {
      "cell_type": "code",
      "execution_count": 3,
      "metadata": {
        "id": "SXwTNkbb2AeQ",
        "outputId": "cd002e93-18e4-4df6-f8c4-922829ecc730"
      },
      "outputs": [
        {
          "data": {
            "text/plain": [
              "DecisionTreeClassifier()"
            ]
          },
          "execution_count": 3,
          "metadata": {},
          "output_type": "execute_result"
        }
      ],
      "source": [
        "# fit decision tree model\n",
        "dt_classifier = tree.DecisionTreeClassifier()\n",
        "dt_classifier.fit(X_train, y_train)"
      ]
    },
    {
      "cell_type": "code",
      "execution_count": 85,
      "metadata": {},
      "outputs": [
        {
          "ename": "",
          "evalue": "",
          "output_type": "error",
          "traceback": [
            "\u001b[1;31mThe Kernel crashed while executing code in the the current cell or a previous cell. Please review the code in the cell(s) to identify a possible cause of the failure. Click <a href='https://aka.ms/vscodeJupyterKernelCrash'>here</a> for more info. View Jupyter <a href='command:jupyter.viewOutput'>log</a> for further details."
          ]
        }
      ],
      "source": [
        "from sklearn.svm import SVC\n",
        "from sklearn.pipeline import make_pipeline\n",
        "from sklearn.preprocessing import StandardScaler\n",
        "\n",
        "clf = make_pipeline(StandardScaler(), SVC(gamma='auto'))\n",
        "clf.fit(X_train, y_train) # samples x features\n",
        "# Pipeline(steps=[('standardscaler', StandardScaler()),('svc', SVC(gamma='auto'))])\n"
      ]
    },
    {
      "cell_type": "code",
      "execution_count": null,
      "metadata": {},
      "outputs": [],
      "source": [
        "# save the model\n",
        "filename = 'SVC_v1.sav'\n",
        "pickle.dump(clf, open(filename, 'wb'))"
      ]
    },
    {
      "cell_type": "code",
      "execution_count": 4,
      "metadata": {},
      "outputs": [],
      "source": [
        "# load the model\n",
        "filename = 'dt_model.sav'\n",
        "loaded_model = pickle.load(open(filename, \"rb\"))"
      ]
    },
    {
      "cell_type": "code",
      "execution_count": 81,
      "metadata": {},
      "outputs": [
        {
          "name": "stdout",
          "output_type": "stream",
          "text": [
            "66\n"
          ]
        }
      ],
      "source": [
        "print(loaded_model.tree_.max_depth)"
      ]
    },
    {
      "cell_type": "code",
      "execution_count": 5,
      "metadata": {
        "id": "vXWZ0o2d2AeQ",
        "outputId": "ba765b22-085e-457b-de35-65af62d2aa94"
      },
      "outputs": [
        {
          "name": "stdout",
          "output_type": "stream",
          "text": [
            "accuracy:  99.34921708014942\n"
          ]
        }
      ],
      "source": [
        "#test the accuracy\n",
        "predicted = dt_classifier.predict(X_test)\n",
        "accuracy = (len(X_test[predicted == y_test]) / len(X_test)) * 100\n",
        "print(\"accuracy: \", accuracy)"
      ]
    },
    {
      "cell_type": "code",
      "execution_count": 5,
      "metadata": {
        "id": "IKTH76Xl2AeQ"
      },
      "outputs": [],
      "source": [
        "# category index\n",
        "\n",
        "categories = {\"0\", \"1\", \"2\", \"3\", \"4\", \"5\", \"6\", \"7\", \"8\", \"9\",\n",
        "              \"=\", \"(\", \")\",\n",
        "              \"forall\", \"exists\",\n",
        "              \"int\", \"log\",\n",
        "              \"X\", \"y\", 'z',\n",
        "              \"+\", \"-\", \"pi\"}\n",
        "\n",
        "category_index = {\n",
        "    \"0\" : 0, \"1\" : 1, \"2\" : 2, \"3\" : 3, \"4\" : 4, \"5\" : 5, \"6\" : 6, \"7\" : 7, \"8\" : 8, \"9\" : 9,\n",
        "    \"=\" : 10, \"(\" : 11, \")\" : 12, \"forall\" : 13, \"exists\" : 14,\n",
        "    \"int\" : 15, \"log\" : 16,\n",
        "    \"X\" : 17, \"y\" : 18, \"z\" : 19, \"+\" : 20, \"-\" : 21, \"pi\" : 22\n",
        "}\n",
        "\n",
        "reverse_category_index = {v : k for k, v in category_index.items()}"
      ]
    },
    {
      "cell_type": "code",
      "execution_count": null,
      "metadata": {},
      "outputs": [],
      "source": []
    },
    {
      "cell_type": "code",
      "execution_count": null,
      "metadata": {
        "id": "lp_Pe0QV2AeQ"
      },
      "outputs": [],
      "source": [
        "def predict(filepath, model):\n",
        "\n",
        "    img = cv2.imread(filepath)[:,:,0]\n",
        "    img = np.array([img])\n",
        "\n",
        "    arr_reshaped = img.reshape(1, 2025)\n",
        "\n",
        "    prediction = model.predict(arr_reshaped)\n",
        "    print(prediction)\n",
        "    print(\"Prediction: \", reverse_category_index[int(prediction[0])])\n",
        "\n",
        "    plt.imshow(255 - img[0],cmap=plt.cm.binary)\n",
        "    plt.show()"
      ]
    },
    {
      "cell_type": "code",
      "execution_count": null,
      "metadata": {
        "id": "kDk16_Re2AeR",
        "outputId": "77b61b4d-f271-44e3-bfd2-e910b3e387b0"
      },
      "outputs": [
        {
          "name": "stdout",
          "output_type": "stream",
          "text": [
            "[13.]\n",
            "Prediction:  forall\n"
          ]
        },
        {
          "data": {
            "image/png": "[encoded data removed]",
            "text/plain": [
              "<Figure size 432x288 with 1 Axes>"
            ]
          },
          "metadata": {
            "needs_background": "light"
          },
          "output_type": "display_data"
        }
      ],
      "source": [
        "filepath = \"/Users/maxko/Documents/D. Personal Project/Summer2023/neuralnet/extracted_images/forall/exp2478.jpg\"\n",
        "model = dt_classifier\n",
        "predict(filepath, model)"
      ]
    },
    {
      "cell_type": "code",
      "execution_count": 7,
      "metadata": {
        "id": "Zc7_rrdE2AeR"
      },
      "outputs": [],
      "source": [
        "import tensorflow as tf\n",
        "mnist = tf.keras.datasets.mnist\n",
        "(x_train_kera, y_train_kera),(x_test_kera, y_test_kera) = mnist.load_data()"
      ]
    },
    {
      "cell_type": "code",
      "execution_count": 9,
      "metadata": {},
      "outputs": [
        {
          "name": "stdout",
          "output_type": "stream",
          "text": [
            "[1. 1. 1. ... 1. 1. 1.]\n"
          ]
        }
      ],
      "source": [
        "print(X_train[0])"
      ]
    },
    {
      "cell_type": "code",
      "execution_count": 73,
      "metadata": {
        "id": "A3pt9QnZ2AeR",
        "outputId": "fe076090-4bb4-4025-d9cb-e31692701f3a"
      },
      "outputs": [
        {
          "name": "stdout",
          "output_type": "stream",
          "text": [
            "(60000, 45, 45)\n",
            "(60000, 2025)\n"
          ]
        }
      ],
      "source": [
        "from skimage.transform import resize\n",
        "\n",
        "\n",
        "img = resize(x_train_kera, (60000, 45, 45))\n",
        "print(img.shape)\n",
        "arr_reshaped = 1 - img.reshape(60000, 2025)\n",
        "\n",
        "print(arr_reshaped.shape)\n",
        "\n",
        "# print(arr_onebit)\n",
        "\n",
        "best_accuracy = 0\n",
        "best_threshold = None\n",
        "\n",
        "# for i in range(0, 100, 5):\n",
        "#     transformed = np.where(arr_reshaped > (i / 100) + 0.4, 1, 0)\n",
        "\n",
        "#     # np.savetxt('arr_int.txt', arr_int)\n",
        "\n",
        "#     prediction = dt_classifier.predict(transformed)\n",
        "#     accuracy = (len(x_train_kera[prediction == y_train_kera]) / len(x_train_kera)) * 100\n",
        "\n",
        "#     print(i, accuracy)\n",
        "\n",
        "#     if (accuracy > best_accuracy):\n",
        "#         best_accuracy = accuracy\n",
        "#         best_threshold = i\n",
        "\n",
        "# print(\"Best accuracy: \", best_accuracy)\n",
        "# print(\"Best threshold: \", best_threshold)"
      ]
    },
    {
      "cell_type": "code",
      "execution_count": 80,
      "metadata": {},
      "outputs": [
        {
          "name": "stdout",
          "output_type": "stream",
          "text": [
            "[1. 1. 1. ... 1. 1. 1.]\n",
            "(2025,)\n",
            "1.000000    1355\n",
            "0.015686      17\n",
            "0.015686       9\n",
            "0.418388       5\n",
            "0.877124       5\n",
            "            ... \n",
            "0.991307       1\n",
            "0.991460       1\n",
            "0.968686       1\n",
            "0.829558       1\n",
            "0.998635       1\n",
            "Length: 608, dtype: int64\n",
            "[1. 1. 1. ... 1. 1. 1.]\n",
            "1.0    1726\n",
            "0.0     299\n",
            "dtype: int64\n",
            "[4.]\n",
            "Prediction:  4\n"
          ]
        },
        {
          "data": {
            "image/png": "[encoded data removed]",
            "text/plain": [
              "<Figure size 432x288 with 1 Axes>"
            ]
          },
          "metadata": {
            "needs_background": "light"
          },
          "output_type": "display_data"
        }
      ],
      "source": [
        "test_img = arr_reshaped[435]\n",
        "\n",
        "print(test_img)\n",
        "print(test_img.shape)\n",
        "\n",
        "series = pd.Series(test_img)\n",
        "counts = series.value_counts()\n",
        "print(counts)\n",
        "\n",
        "transformed = np.where(test_img >= 0.300, 1.0, 0.0)\n",
        "\n",
        "print(transformed)\n",
        "series = pd.Series(transformed)\n",
        "counts = series.value_counts()\n",
        "print(counts)\n",
        "\n",
        "# test_img = transformed\n",
        "# print(\"img shape should be (1, 45, 45)\")\n",
        "# print(test_img.shape)\n",
        "\n",
        "# arr_reshaped = test_img.reshape(1, 2025)\n",
        "# print(\"img reshape should be (1, 2025)\")\n",
        "# print(test_img.shape)\n",
        "\n",
        "prediction = loaded_model.predict(np.array([transformed]))\n",
        "\n",
        "print(prediction)\n",
        "print(\"Prediction: \", reverse_category_index[int(prediction[0])])\n",
        "\n",
        "plt.imshow(1 - transformed.reshape(45, 45),cmap=plt.cm.binary)\n",
        "plt.show()\n",
        "\n",
        "# prediction = dt_classifier.predict(test_img)\n",
        "\n",
        "# print(\"Prediction: \", reverse_category_index[int(prediction[0])])"
      ]
    },
    {
      "cell_type": "code",
      "execution_count": 56,
      "metadata": {},
      "outputs": [
        {
          "name": "stdout",
          "output_type": "stream",
          "text": [
            "(1000, 1000)\n"
          ]
        },
        {
          "data": {
            "image/png": "[encoded data removed]",
            "text/plain": [
              "<Figure size 432x288 with 1 Axes>"
            ]
          },
          "metadata": {
            "needs_background": "light"
          },
          "output_type": "display_data"
        },
        {
          "data": {
            "image/png": "[encoded data removed]",
            "text/plain": [
              "<Figure size 432x288 with 1 Axes>"
            ]
          },
          "metadata": {
            "needs_background": "light"
          },
          "output_type": "display_data"
        },
        {
          "name": "stdout",
          "output_type": "stream",
          "text": [
            "1.000000    1665\n",
            "1.000000      12\n",
            "0.995269       5\n",
            "0.965472       5\n",
            "0.996620       4\n",
            "            ... \n",
            "0.999933       1\n",
            "0.999958       1\n",
            "0.999974       1\n",
            "0.999991       1\n",
            "1.000000       1\n",
            "Length: 333, dtype: int64\n",
            "[[1. 1. 1. ... 1. 1. 1.]]\n",
            "1.0    1962\n",
            "0.0      63\n",
            "dtype: int64\n",
            "img shape should be (1, 45, 45)\n",
            "(1, 2025)\n",
            "img reshape should be (1, 2025)\n",
            "(1, 2025)\n",
            "[2.]\n",
            "Prediction:  2\n"
          ]
        },
        {
          "data": {
            "image/png": "[encoded data removed]",
            "text/plain": [
              "<Figure size 432x288 with 1 Axes>"
            ]
          },
          "metadata": {
            "needs_background": "light"
          },
          "output_type": "display_data"
        }
      ],
      "source": [
        "filepath = \"/Users/maxko/Documents/D. Personal Project/Summer2023/neuralnet/scribbletex-4.png\"\n",
        "img = cv2.imread(filepath)[:,:,0]\n",
        "\n",
        "print(img.shape)\n",
        "\n",
        "plt.imshow(1 - img,cmap=plt.cm.binary)\n",
        "plt.show()\n",
        "\n",
        "resized = resize(img, (45, 45))\n",
        "\n",
        "plt.imshow(1 - resized,cmap=plt.cm.binary)\n",
        "plt.show()\n",
        "\n",
        "arr_reshaped = resized.reshape(1, 2025)\n",
        "\n",
        "series = pd.Series(arr_reshaped[0])\n",
        "counts = series.value_counts()\n",
        "print(counts)\n",
        "\n",
        "transformed = np.where(arr_reshaped >= 0.980, 1.0, 0.0)\n",
        "\n",
        "print(transformed)\n",
        "series = pd.Series(transformed[0])\n",
        "counts = series.value_counts()\n",
        "print(counts)\n",
        "\n",
        "img = transformed\n",
        "print(\"img shape should be (1, 45, 45)\")\n",
        "print(img.shape)\n",
        "\n",
        "arr_reshaped = img.reshape(1, 2025)\n",
        "print(\"img reshape should be (1, 2025)\")\n",
        "print(img.shape)\n",
        "\n",
        "prediction = loaded_model.predict(arr_reshaped)\n",
        "\n",
        "print(prediction)\n",
        "print(\"Prediction: \", reverse_category_index[int(prediction[0])])\n",
        "\n",
        "plt.imshow(1 - transformed[0].reshape(45, 45),cmap=plt.cm.binary)\n",
        "plt.show()"
      ]
    },
    {
      "cell_type": "code",
      "execution_count": 11,
      "metadata": {
        "id": "sB-Hjbxc2AeR"
      },
      "outputs": [
        {
          "data": {
            "image/png": "[encoded data removed]",
            "text/plain": [
              "<Figure size 432x288 with 1 Axes>"
            ]
          },
          "metadata": {
            "needs_background": "light"
          },
          "output_type": "display_data"
        }
      ],
      "source": [
        "plt.imshow(img[0],cmap=plt.cm.binary)\n",
        "plt.show()"
      ]
    },
    {
      "cell_type": "code",
      "execution_count": null,
      "metadata": {},
      "outputs": [],
      "source": []
    }
  ],
  "metadata": {
    "colab": {
      "provenance": []
    },
    "kernelspec": {
      "display_name": "nn",
      "language": "python",
      "name": "python3"
    },
    "language_info": {
      "codemirror_mode": {
        "name": "ipython",
        "version": 3
      },
      "file_extension": ".py",
      "mimetype": "text/x-python",
      "name": "python",
      "nbconvert_exporter": "python",
      "pygments_lexer": "ipython3",
      "version": "3.11.4"
    }
  },
  "nbformat": 4,
  "nbformat_minor": 0
}
